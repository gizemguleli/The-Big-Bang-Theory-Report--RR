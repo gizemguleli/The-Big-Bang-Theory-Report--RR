{
 "cells": [
  {
   "cell_type": "markdown",
   "metadata": {},
   "source": [
    "# THE BIG BANG THEORY\n",
    "\n",
    "<div style=\"display: flex; align-items: center;\">\n",
    "    <img src=\"https://upload.wikimedia.org/wikipedia/en/thumb/7/7b/The_Big_Bang_Theory_%28Official_Title_Card%29.png/330px-The_Big_Bang_Theory_%28Official_Title_Card%29.png\" alt=\"The Big Bang Theory\" style=\"width: 200px;\"/>\n",
    "    <p style=\"margin-left: 20px;\"> \"The Big Bang Theory\" is a popular American television sitcom created by Chuck Lorre and Bill Prady. It originally aired on CBS from September 24, 2007, to May 16, 2019, spanning a total of twelve seasons. The show is known for its witty humor, clever writing, and endearing characters, particularly the group of socially awkward but brilliant physicists at Caltech University.\n",
    "</p>\n",
    "</div>\n",
    "\n",
    "\n"
   ]
  },
  {
   "cell_type": "code",
   "execution_count": 12,
   "metadata": {},
   "outputs": [
    {
     "name": "stdout",
     "output_type": "stream",
     "text": [
      "   Season Episodes First aired  Last aired Viewers rank  \\\n",
      "0       1       17  2007-09-24  2008-05-19       68[20]   \n",
      "1       2       23  2008-09-22  2009-05-11       40[22]   \n",
      "2       3       23  2009-09-21  2010-05-24           12   \n",
      "3       4       24  2010-09-23  2011-05-19           13   \n",
      "4       5       24  2011-09-22  2012-05-10            8   \n",
      "5       6       24  2012-09-27  2013-05-16            3   \n",
      "6       7       24  2013-09-26  2014-05-15            2   \n",
      "7       8       24  2014-09-22  2015-05-07            2   \n",
      "8       9       24  2015-09-21  2016-05-12            2   \n",
      "9      10       24  2016-09-19  2017-05-11            2   \n",
      "10     11       24  2017-09-25  2018-05-10            1   \n",
      "11     12       24  2018-09-24  2019-05-16            2   \n",
      "\n",
      "   U.S. Viewers (millions) 18–49 rank 18–49 rating/share  \n",
      "0                     8.34     46[21]              3.3/8  \n",
      "1                    10.07          —                  —  \n",
      "2                    14.22      5[23]             5.3/13  \n",
      "3                    13.21      7[24]             4.4/13  \n",
      "4                    15.82      6[25]             5.5/17  \n",
      "5                    18.68      2[26]             6.2/19  \n",
      "6                    19.96      2[27]             6.2/20  \n",
      "7                    19.05      4[28]             5.6/17  \n",
      "8                    20.36      3[29]             5.8/19  \n",
      "9                    18.99      3[30]             4.9/19  \n",
      "10                   18.63      5[31]                4.4  \n",
      "11                   17.31      6[32]                3.6  \n"
     ]
    }
   ],
   "source": [
    "import requests\n",
    "from bs4 import BeautifulSoup\n",
    "import pandas as pd\n",
    "import re\n",
    "\n",
    "# URL of the Wikipedia page\n",
    "url = 'https://en.wikipedia.org/wiki/The_Big_Bang_Theory'\n",
    "\n",
    "# Fetch the HTML content of the Wikipedia page\n",
    "response = requests.get(url)\n",
    "if response.status_code == 200:\n",
    "    html_content = response.text\n",
    "else:\n",
    "    print(\"Failed to retrieve page\")\n",
    "\n",
    "# Parse the HTML content\n",
    "soup = BeautifulSoup(html_content, 'html.parser')\n",
    "\n",
    "# Find the table containing viewership statistics\n",
    "table = soup.find('table', {'class': 'wikitable plainrowheaders'})\n",
    "\n",
    "# Extract data from the table\n",
    "data = []\n",
    "for row in table.find_all('tr'):\n",
    "    columns = row.find_all(['th', 'td'])\n",
    "    if len(columns) == 8:  # Ensure it's a data row\n",
    "        season = columns[0].text.strip()\n",
    "        episodes = columns[1].text.strip()\n",
    "        # Extract dates and format them as 'YYYY-MM-DD'\n",
    "        first_aired = re.search(r'\\d{4}-\\d{2}-\\d{2}', columns[2].text.strip()).group()\n",
    "        last_aired = re.search(r'\\d{4}-\\d{2}-\\d{2}', columns[3].text.strip()).group()\n",
    "       \n",
    "        viewers_rank = columns[4].text.strip()\n",
    "        viewers_million = columns[5].text.strip()\n",
    "        _18_49_rank = columns[6].text.strip()\n",
    "        _18_49_rating_share = columns[7].text.strip()\n",
    "        data.append((season, episodes, first_aired, last_aired, viewers_rank, viewers_million, _18_49_rank, _18_49_rating_share))\n",
    "\n",
    "# Create DataFrame from the extracted data\n",
    "df = pd.DataFrame(data, columns=['Season', 'Episodes', 'First aired', 'Last aired', 'Viewers rank', 'U.S. Viewers (millions)', '18–49 rank', '18–49 rating/share'])\n",
    "\n",
    "# Print DataFrame\n",
    "print(df)\n"
   ]
  },
  {
   "cell_type": "markdown",
   "metadata": {},
   "source": []
  }
 ],
 "metadata": {
  "kernelspec": {
   "display_name": "Python 3",
   "language": "python",
   "name": "python3"
  },
  "language_info": {
   "codemirror_mode": {
    "name": "ipython",
    "version": 3
   },
   "file_extension": ".py",
   "mimetype": "text/x-python",
   "name": "python",
   "nbconvert_exporter": "python",
   "pygments_lexer": "ipython3",
   "version": "3.11.9"
  }
 },
 "nbformat": 4,
 "nbformat_minor": 2
}
